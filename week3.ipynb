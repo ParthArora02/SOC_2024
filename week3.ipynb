{
  "nbformat": 4,
  "nbformat_minor": 0,
  "metadata": {
    "colab": {
      "provenance": []
    },
    "kernelspec": {
      "name": "python3",
      "display_name": "Python 3"
    },
    "language_info": {
      "name": "python"
    }
  },
  "cells": [
    {
      "cell_type": "code",
      "execution_count": 1,
      "metadata": {
        "id": "nwXxzSQ9zZPq"
      },
      "outputs": [],
      "source": [
        "import torch\n",
        "import torch.nn as nn\n",
        "import torch.optim as optim\n",
        "import torchvision\n",
        "import torchvision.transforms as transforms\n",
        "from torch.utils.data import DataLoader\n"
      ]
    },
    {
      "cell_type": "code",
      "source": [
        "# Transform to normalize the data\n",
        "transform = transforms.Compose([transforms.ToTensor(), transforms.Normalize((0.5,), (0.5,))])\n",
        "\n",
        "# Load the training and test datasets\n",
        "trainset = torchvision.datasets.MNIST(root='./data', train=True, download=True, transform=transform)\n",
        "trainloader = DataLoader(trainset, batch_size=64, shuffle=True)\n",
        "\n",
        "testset = torchvision.datasets.MNIST(root='./data', train=False, download=True, transform=transform)\n",
        "testloader = DataLoader(testset, batch_size=64, shuffle=False)\n"
      ],
      "metadata": {
        "colab": {
          "base_uri": "https://localhost:8080/"
        },
        "collapsed": true,
        "id": "i86RltpmzeXL",
        "outputId": "d0a179ec-9deb-4f46-f3ed-66e7eb6672d0"
      },
      "execution_count": 2,
      "outputs": [
        {
          "output_type": "stream",
          "name": "stdout",
          "text": [
            "Downloading http://yann.lecun.com/exdb/mnist/train-images-idx3-ubyte.gz\n",
            "Failed to download (trying next):\n",
            "HTTP Error 403: Forbidden\n",
            "\n",
            "Downloading https://ossci-datasets.s3.amazonaws.com/mnist/train-images-idx3-ubyte.gz\n",
            "Downloading https://ossci-datasets.s3.amazonaws.com/mnist/train-images-idx3-ubyte.gz to ./data/MNIST/raw/train-images-idx3-ubyte.gz\n"
          ]
        },
        {
          "output_type": "stream",
          "name": "stderr",
          "text": [
            "100%|██████████| 9912422/9912422 [00:00<00:00, 47819723.87it/s]\n"
          ]
        },
        {
          "output_type": "stream",
          "name": "stdout",
          "text": [
            "Extracting ./data/MNIST/raw/train-images-idx3-ubyte.gz to ./data/MNIST/raw\n",
            "\n",
            "Downloading http://yann.lecun.com/exdb/mnist/train-labels-idx1-ubyte.gz\n",
            "Failed to download (trying next):\n",
            "HTTP Error 403: Forbidden\n",
            "\n",
            "Downloading https://ossci-datasets.s3.amazonaws.com/mnist/train-labels-idx1-ubyte.gz\n",
            "Downloading https://ossci-datasets.s3.amazonaws.com/mnist/train-labels-idx1-ubyte.gz to ./data/MNIST/raw/train-labels-idx1-ubyte.gz\n"
          ]
        },
        {
          "output_type": "stream",
          "name": "stderr",
          "text": [
            "100%|██████████| 28881/28881 [00:00<00:00, 22382796.35it/s]"
          ]
        },
        {
          "output_type": "stream",
          "name": "stdout",
          "text": [
            "Extracting ./data/MNIST/raw/train-labels-idx1-ubyte.gz to ./data/MNIST/raw\n",
            "\n",
            "Downloading http://yann.lecun.com/exdb/mnist/t10k-images-idx3-ubyte.gz\n",
            "Failed to download (trying next):\n",
            "HTTP Error 403: Forbidden\n",
            "\n",
            "Downloading https://ossci-datasets.s3.amazonaws.com/mnist/t10k-images-idx3-ubyte.gz\n",
            "Downloading https://ossci-datasets.s3.amazonaws.com/mnist/t10k-images-idx3-ubyte.gz to ./data/MNIST/raw/t10k-images-idx3-ubyte.gz\n"
          ]
        },
        {
          "output_type": "stream",
          "name": "stderr",
          "text": [
            "\n",
            "100%|██████████| 1648877/1648877 [00:00<00:00, 22280075.50it/s]\n"
          ]
        },
        {
          "output_type": "stream",
          "name": "stdout",
          "text": [
            "Extracting ./data/MNIST/raw/t10k-images-idx3-ubyte.gz to ./data/MNIST/raw\n",
            "\n",
            "Downloading http://yann.lecun.com/exdb/mnist/t10k-labels-idx1-ubyte.gz\n",
            "Failed to download (trying next):\n",
            "HTTP Error 403: Forbidden\n",
            "\n",
            "Downloading https://ossci-datasets.s3.amazonaws.com/mnist/t10k-labels-idx1-ubyte.gz\n",
            "Downloading https://ossci-datasets.s3.amazonaws.com/mnist/t10k-labels-idx1-ubyte.gz to ./data/MNIST/raw/t10k-labels-idx1-ubyte.gz\n"
          ]
        },
        {
          "output_type": "stream",
          "name": "stderr",
          "text": [
            "100%|██████████| 4542/4542 [00:00<00:00, 3476373.86it/s]\n"
          ]
        },
        {
          "output_type": "stream",
          "name": "stdout",
          "text": [
            "Extracting ./data/MNIST/raw/t10k-labels-idx1-ubyte.gz to ./data/MNIST/raw\n",
            "\n"
          ]
        }
      ]
    },
    {
      "cell_type": "code",
      "source": [
        "class SimpleNN(nn.Module):\n",
        "    def __init__(self):\n",
        "        super(SimpleNN, self).__init__()\n",
        "        self.fc1 = nn.Linear(28*28, 128)  # Input layer to hidden layer\n",
        "        self.fc2 = nn.Linear(128, 10)     # Hidden layer to output layer\n",
        "\n",
        "    def forward(self, x):\n",
        "        x = x.view(-1, 28*28)  # Flatten the image\n",
        "        x = torch.relu(self.fc1(x))\n",
        "        x = self.fc2(x)\n",
        "        return x\n",
        "\n",
        "net = SimpleNN()\n"
      ],
      "metadata": {
        "id": "nyMMDbjKzel-"
      },
      "execution_count": 4,
      "outputs": []
    },
    {
      "cell_type": "code",
      "source": [
        "criterion = nn.CrossEntropyLoss()\n",
        "optimizer = optim.SGD(net.parameters(), lr=0.01, momentum=0.9)\n"
      ],
      "metadata": {
        "id": "03CmllF7zepV"
      },
      "execution_count": 6,
      "outputs": []
    },
    {
      "cell_type": "code",
      "source": [
        "num_epochs = 5\n",
        "\n",
        "for epoch in range(num_epochs):  # Loop over the dataset multiple times\n",
        "    running_loss = 0.0\n",
        "    for i, data in enumerate(trainloader, 0):\n",
        "        # Get the inputs; data is a list of [inputs, labels]\n",
        "        inputs, labels = data\n",
        "\n",
        "        # Zero the parameter gradients\n",
        "        optimizer.zero_grad()\n",
        "\n",
        "        # Forward pass\n",
        "        outputs = net(inputs)\n",
        "        loss = criterion(outputs, labels)\n",
        "\n",
        "        # Backward pass and optimize\n",
        "        loss.backward()\n",
        "        optimizer.step()\n",
        "\n",
        "        # Print statistics\n",
        "        running_loss += loss.item()\n",
        "        if i % 100 == 99:    # Print every 100 mini-batches\n",
        "            print(f'[Epoch {epoch + 1}, Batch {i + 1}] loss: {running_loss / 100:.3f}')\n",
        "            running_loss = 0.0\n",
        "\n",
        "print('Finished Training')\n"
      ],
      "metadata": {
        "colab": {
          "base_uri": "https://localhost:8080/"
        },
        "id": "LsSR-2Ixze-M",
        "outputId": "8c07cae3-c30d-475a-cd54-eeb3b95fabc7"
      },
      "execution_count": 7,
      "outputs": [
        {
          "output_type": "stream",
          "name": "stdout",
          "text": [
            "[Epoch 1, Batch 100] loss: 0.943\n",
            "[Epoch 1, Batch 200] loss: 0.444\n",
            "[Epoch 1, Batch 300] loss: 0.350\n",
            "[Epoch 1, Batch 400] loss: 0.335\n",
            "[Epoch 1, Batch 500] loss: 0.315\n",
            "[Epoch 1, Batch 600] loss: 0.274\n",
            "[Epoch 1, Batch 700] loss: 0.267\n",
            "[Epoch 1, Batch 800] loss: 0.252\n",
            "[Epoch 1, Batch 900] loss: 0.215\n",
            "[Epoch 2, Batch 100] loss: 0.197\n",
            "[Epoch 2, Batch 200] loss: 0.185\n",
            "[Epoch 2, Batch 300] loss: 0.192\n",
            "[Epoch 2, Batch 400] loss: 0.174\n",
            "[Epoch 2, Batch 500] loss: 0.181\n",
            "[Epoch 2, Batch 600] loss: 0.154\n",
            "[Epoch 2, Batch 700] loss: 0.179\n",
            "[Epoch 2, Batch 800] loss: 0.174\n",
            "[Epoch 2, Batch 900] loss: 0.153\n",
            "[Epoch 3, Batch 100] loss: 0.147\n",
            "[Epoch 3, Batch 200] loss: 0.128\n",
            "[Epoch 3, Batch 300] loss: 0.126\n",
            "[Epoch 3, Batch 400] loss: 0.138\n",
            "[Epoch 3, Batch 500] loss: 0.132\n",
            "[Epoch 3, Batch 600] loss: 0.136\n",
            "[Epoch 3, Batch 700] loss: 0.108\n",
            "[Epoch 3, Batch 800] loss: 0.122\n",
            "[Epoch 3, Batch 900] loss: 0.111\n",
            "[Epoch 4, Batch 100] loss: 0.104\n",
            "[Epoch 4, Batch 200] loss: 0.100\n",
            "[Epoch 4, Batch 300] loss: 0.117\n",
            "[Epoch 4, Batch 400] loss: 0.115\n",
            "[Epoch 4, Batch 500] loss: 0.097\n",
            "[Epoch 4, Batch 600] loss: 0.094\n",
            "[Epoch 4, Batch 700] loss: 0.103\n",
            "[Epoch 4, Batch 800] loss: 0.106\n",
            "[Epoch 4, Batch 900] loss: 0.102\n",
            "[Epoch 5, Batch 100] loss: 0.089\n",
            "[Epoch 5, Batch 200] loss: 0.077\n",
            "[Epoch 5, Batch 300] loss: 0.094\n",
            "[Epoch 5, Batch 400] loss: 0.087\n",
            "[Epoch 5, Batch 500] loss: 0.079\n",
            "[Epoch 5, Batch 600] loss: 0.090\n",
            "[Epoch 5, Batch 700] loss: 0.083\n",
            "[Epoch 5, Batch 800] loss: 0.083\n",
            "[Epoch 5, Batch 900] loss: 0.083\n",
            "Finished Training\n"
          ]
        }
      ]
    },
    {
      "cell_type": "code",
      "source": [
        "correct = 0\n",
        "total = 0\n",
        "\n",
        "# Since we're not training, we don't need to calculate the gradients for our outputs\n",
        "with torch.no_grad():\n",
        "    for data in testloader:\n",
        "        images, labels = data\n",
        "        # Calculate outputs by running images through the network\n",
        "        outputs = net(images)\n",
        "        # The class with the highest energy is what we choose as prediction\n",
        "        _, predicted = torch.max(outputs.data, 1)\n",
        "        total += labels.size(0)\n",
        "        correct += (predicted == labels).sum().item()\n",
        "\n",
        "print(f'Accuracy of the network on the 10000 test images: {100 * correct / total:.2f}%')\n"
      ],
      "metadata": {
        "colab": {
          "base_uri": "https://localhost:8080/"
        },
        "id": "c8gOQD7ezfBq",
        "outputId": "31cb6c32-9233-4aa5-b36f-4780e5f97d16"
      },
      "execution_count": 8,
      "outputs": [
        {
          "output_type": "stream",
          "name": "stdout",
          "text": [
            "Accuracy of the network on the 10000 test images: 96.77%\n"
          ]
        }
      ]
    },
    {
      "cell_type": "code",
      "source": [
        "# Save the model\n",
        "PATH = './mnist_net.pth'\n",
        "torch.save(net.state_dict(), PATH)\n",
        "\n",
        "# To load the model later\n",
        "net = SimpleNN()\n",
        "net.load_state_dict(torch.load(PATH))\n"
      ],
      "metadata": {
        "colab": {
          "base_uri": "https://localhost:8080/"
        },
        "id": "Vr9-99vTz-qL",
        "outputId": "f34db7a8-3a0e-498e-9a9f-46701a59d9dc"
      },
      "execution_count": 9,
      "outputs": [
        {
          "output_type": "execute_result",
          "data": {
            "text/plain": [
              "<All keys matched successfully>"
            ]
          },
          "metadata": {},
          "execution_count": 9
        }
      ]
    }
  ]
}